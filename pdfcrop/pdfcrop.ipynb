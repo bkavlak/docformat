{
 "cells": [
  {
   "cell_type": "code",
   "execution_count": null,
   "id": "972d84c9",
   "metadata": {},
   "outputs": [],
   "source": [
    "# Install Text-Live for pdfcrop\n",
    "!apt-get update -y\n",
    "!apt-get install texlive-full -y"
   ]
  },
  {
   "cell_type": "code",
   "execution_count": null,
   "id": "2df09339",
   "metadata": {},
   "outputs": [],
   "source": [
    "!apt-get install qpdf -y"
   ]
  },
  {
   "cell_type": "code",
   "execution_count": 1,
   "id": "727c2aa1",
   "metadata": {},
   "outputs": [],
   "source": [
    "import os\n",
    "import glob"
   ]
  },
  {
   "cell_type": "code",
   "execution_count": 2,
   "id": "4c86c610",
   "metadata": {},
   "outputs": [],
   "source": [
    "file_list = [os.path.basename(x) for x in glob.glob('./filesLRcrop/*.pdf')]"
   ]
  },
  {
   "cell_type": "code",
   "execution_count": 3,
   "id": "a44b0d9c",
   "metadata": {
    "scrolled": true
   },
   "outputs": [
    {
     "name": "stdout",
     "output_type": "stream",
     "text": [
      "1-realpython-python-coding-interview-tips.pdf\n",
      "PDFCROP 1.38, 2012/11/02 - Copyright (c) 2002-2012 by Heiko Oberdiek.\n",
      "==> 9 pages written on `./cropped/1-realpython-python-coding-interview-tips_cropped.pdf'.\n",
      "2-realpython-python-property.pdf\n",
      "PDFCROP 1.38, 2012/11/02 - Copyright (c) 2002-2012 by Heiko Oberdiek.\n",
      "==> 17 pages written on `./cropped/2-realpython-python-property_cropped.pdf'.\n"
     ]
    }
   ],
   "source": [
    "for file_name in file_list:\n",
    "    print(file_name)\n",
    "    cropped_name = f\"{file_name.split('.')[0]}_cropped.pdf\"\n",
    "    os.system(f\"pdfcrop -m '-100 0 -200 0' ./filesLRcrop/{file_name} ./cropped/{cropped_name}\")\n",
    "    compressed_name = f\"{file_name.split('.')[0]}_cropped_compressed.pdf\"\n",
    "    os.system(f\"ps2pdf ./cropped/{cropped_name} ./compressed/{compressed_name}\")"
   ]
  },
  {
   "cell_type": "code",
   "execution_count": 4,
   "id": "20c14a70",
   "metadata": {},
   "outputs": [],
   "source": [
    "file_list = [os.path.basename(x) for x in glob.glob('./filesRcrop/*.pdf')]"
   ]
  },
  {
   "cell_type": "code",
   "execution_count": null,
   "id": "3b707cb9",
   "metadata": {},
   "outputs": [
    {
     "name": "stdout",
     "output_type": "stream",
     "text": [
      "10-realpython-python-pep8.pdf\n",
      "PDFCROP 1.38, 2012/11/02 - Copyright (c) 2002-2012 by Heiko Oberdiek.\n",
      "==> 20 pages written on `./cropped/10-realpython-python-pep8_cropped.pdf'.\n",
      "11-realpython-python-continuous-integration.pdf\n",
      "PDFCROP 1.38, 2012/11/02 - Copyright (c) 2002-2012 by Heiko Oberdiek.\n",
      "==> 15 pages written on `./cropped/11-realpython-python-continuous-integration_cropped.pdf'.\n",
      "12-realpython-pypi-publish-python-package.pdf\n",
      "PDFCROP 1.38, 2012/11/02 - Copyright (c) 2002-2012 by Heiko Oberdiek.\n",
      "==> 17 pages written on `./cropped/12-realpython-pypi-publish-python-package_cropped.pdf'.\n",
      "13-realpython-python-comments-guide.pdf\n",
      "PDFCROP 1.38, 2012/11/02 - Copyright (c) 2002-2012 by Heiko Oberdiek.\n",
      "==> 11 pages written on `./cropped/13-realpython-python-comments-guide_cropped.pdf'.\n",
      "14-realpython-python-testing.pdf\n",
      "PDFCROP 1.38, 2012/11/02 - Copyright (c) 2002-2012 by Heiko Oberdiek.\n",
      "==> 24 pages written on `./cropped/14-realpython-python-testing_cropped.pdf'.\n",
      "15-realpython-python-rounding.pdf\n",
      "PDFCROP 1.38, 2012/11/02 - Copyright (c) 2002-2012 by Heiko Oberdiek.\n",
      "==> 27 pages written on `./cropped/15-realpython-python-rounding_cropped.pdf'.\n",
      "16-realpython-absolute-vs-relative-python-imports.pdf\n",
      "PDFCROP 1.38, 2012/11/02 - Copyright (c) 2002-2012 by Heiko Oberdiek.\n",
      "==> 8 pages written on `./cropped/16-realpython-absolute-vs-relative-python-imports_cropped.pdf'.\n",
      "17-realpython-python-code-quality.pdf\n",
      "PDFCROP 1.38, 2012/11/02 - Copyright (c) 2002-2012 by Heiko Oberdiek.\n",
      "==> 10 pages written on `./cropped/17-realpython-python-code-quality_cropped.pdf'.\n",
      "18-realpython-documenting-python-code.pdf\n",
      "PDFCROP 1.38, 2012/11/02 - Copyright (c) 2002-2012 by Heiko Oberdiek.\n",
      "==> 15 pages written on `./cropped/18-realpython-documenting-python-code_cropped.pdf'.\n",
      "19-realpython-python-string-formatting.pdf\n",
      "PDFCROP 1.38, 2012/11/02 - Copyright (c) 2002-2012 by Heiko Oberdiek.\n",
      "==> 8 pages written on `./cropped/19-realpython-python-string-formatting_cropped.pdf'.\n",
      "20-realpython-python-application-layouts.pdf\n",
      "PDFCROP 1.38, 2012/11/02 - Copyright (c) 2002-2012 by Heiko Oberdiek.\n",
      "==> 9 pages written on `./cropped/20-realpython-python-application-layouts_cropped.pdf'.\n",
      "21-realpython-python-cli-testing.pdf\n",
      "PDFCROP 1.38, 2012/11/02 - Copyright (c) 2002-2012 by Heiko Oberdiek.\n",
      "==> 13 pages written on `./cropped/21-realpython-python-cli-testing_cropped.pdf'.\n",
      "22-realpython-python-virtual-environments-a-primer.pdf\n",
      "PDFCROP 1.38, 2012/11/02 - Copyright (c) 2002-2012 by Heiko Oberdiek.\n",
      "==> 11 pages written on `./cropped/22-realpython-python-virtual-environments-a-primer_cropped.pdf'.\n",
      "23-realpython-the-most-diabolical-python-antipattern.pdf\n",
      "PDFCROP 1.38, 2012/11/02 - Copyright (c) 2002-2012 by Heiko Oberdiek.\n",
      "==> 7 pages written on `./cropped/23-realpython-the-most-diabolical-python-antipattern_cropped.pdf'.\n",
      "24-realpython-testing-in-django-part-1-best-practices-and-examples.pdf\n",
      "PDFCROP 1.38, 2012/11/02 - Copyright (c) 2002-2012 by Heiko Oberdiek.\n",
      "==> 9 pages written on `./cropped/24-realpython-testing-in-django-part-1-best-practices-and-examples_cropped.pdf'.\n",
      "25-realpython-reverse-string-python.pdf\n",
      "PDFCROP 1.38, 2012/11/02 - Copyright (c) 2002-2012 by Heiko Oberdiek.\n",
      "==> 11 pages written on `./cropped/25-realpython-reverse-string-python_cropped.pdf'.\n",
      "26-realpython-python-and-operator.pdf\n",
      "PDFCROP 1.38, 2012/11/02 - Copyright (c) 2002-2012 by Heiko Oberdiek.\n",
      "==> 17 pages written on `./cropped/26-realpython-python-and-operator_cropped.pdf'.\n",
      "27-realpython-python-walrus-operator.pdf\n",
      "PDFCROP 1.38, 2012/11/02 - Copyright (c) 2002-2012 by Heiko Oberdiek.\n",
      "==> 18 pages written on `./cropped/27-realpython-python-walrus-operator_cropped.pdf'.\n",
      "28-realpython-django-setup.pdf\n",
      "PDFCROP 1.38, 2012/11/02 - Copyright (c) 2002-2012 by Heiko Oberdiek.\n",
      "==> 8 pages written on `./cropped/28-realpython-django-setup_cropped.pdf'.\n",
      "29-realpython-python-interview-problem-parsing-csv-files.pdf\n",
      "PDFCROP 1.38, 2012/11/02 - Copyright (c) 2002-2012 by Heiko Oberdiek.\n",
      "==> 7 pages written on `./cropped/29-realpython-python-interview-problem-parsing-csv-files_cropped.pdf'.\n",
      "3-realpython-intro-to-python-threading.pdf\n",
      "PDFCROP 1.38, 2012/11/02 - Copyright (c) 2002-2012 by Heiko Oberdiek.\n",
      "==> 23 pages written on `./cropped/3-realpython-intro-to-python-threading_cropped.pdf'.\n",
      "30-realpython-python-filter-function.pdf\n",
      "PDFCROP 1.38, 2012/11/02 - Copyright (c) 2002-2012 by Heiko Oberdiek.\n",
      "==> 14 pages written on `./cropped/30-realpython-python-filter-function_cropped.pdf'.\n",
      "31-realpython-python-enumerate.pdf\n",
      "PDFCROP 1.38, 2012/11/02 - Copyright (c) 2002-2012 by Heiko Oberdiek.\n",
      "==> 11 pages written on `./cropped/31-realpython-python-enumerate_cropped.pdf'.\n",
      "32-realpython-community-slack-guide.pdf\n",
      "PDFCROP 1.38, 2012/11/02 - Copyright (c) 2002-2012 by Heiko Oberdiek.\n",
      "==> 9 pages written on `./cropped/32-realpython-community-slack-guide_cropped.pdf'.\n",
      "33-realpython-python-map-function.pdf\n",
      "PDFCROP 1.38, 2012/11/02 - Copyright (c) 2002-2012 by Heiko Oberdiek.\n",
      "==> 18 pages written on `./cropped/33-realpython-python-map-function_cropped.pdf'.\n",
      "34-realpython-python-return-statement.pdf\n",
      "PDFCROP 1.38, 2012/11/02 - Copyright (c) 2002-2012 by Heiko Oberdiek.\n",
      "==> 24 pages written on `./cropped/34-realpython-python-return-statement_cropped.pdf'.\n",
      "35-realpython-python-practice-problems.pdf\n",
      "PDFCROP 1.38, 2012/11/02 - Copyright (c) 2002-2012 by Heiko Oberdiek.\n",
      "==> 8 pages written on `./cropped/35-realpython-python-practice-problems_cropped.pdf'.\n",
      "36-realpython-python-pass-by-reference.pdf\n",
      "PDFCROP 1.38, 2012/11/02 - Copyright (c) 2002-2012 by Heiko Oberdiek.\n",
      "==> 16 pages written on `./cropped/36-realpython-python-pass-by-reference_cropped.pdf'.\n",
      "37-realpython-python-reduce-function.pdf\n",
      "PDFCROP 1.38, 2012/11/02 - Copyright (c) 2002-2012 by Heiko Oberdiek.\n",
      "==> 21 pages written on `./cropped/37-realpython-python-reduce-function_cropped.pdf'.\n",
      "38-realpython-python-command-line-arguments.pdf\n",
      "PDFCROP 1.38, 2012/11/02 - Copyright (c) 2002-2012 by Heiko Oberdiek.\n",
      "==> 35 pages written on `./cropped/38-realpython-python-command-line-arguments_cropped.pdf'.\n",
      "39-realpython-python-is-identity-vs-equality.pdf\n",
      "PDFCROP 1.38, 2012/11/02 - Copyright (c) 2002-2012 by Heiko Oberdiek.\n",
      "==> 7 pages written on `./cropped/39-realpython-python-is-identity-vs-equality_cropped.pdf'.\n",
      "4-realpython-use-pyinstaller.pdf\n",
      "PDFCROP 1.38, 2012/11/02 - Copyright (c) 2002-2012 by Heiko Oberdiek.\n",
      "==> 13 pages written on `./cropped/4-realpython-use-pyinstaller_cropped.pdf'.\n",
      "40-realpython-prevent-python-sql-injection.pdf\n",
      "PDFCROP 1.38, 2012/11/02 - Copyright (c) 2002-2012 by Heiko Oberdiek.\n",
      "==> 14 pages written on `./cropped/40-realpython-prevent-python-sql-injection_cropped.pdf'.\n",
      "41-realpython-inheritance-composition-python.pdf\n",
      "PDFCROP 1.38, 2012/11/02 - Copyright (c) 2002-2012 by Heiko Oberdiek.\n"
     ]
    }
   ],
   "source": [
    "for file_name in file_list:\n",
    "    print(file_name)\n",
    "    cropped_name = f\"{file_name.split('.')[0]}_cropped.pdf\"\n",
    "    os.system(f\"pdfcrop -m '0 0 -200 0' ./filesRcrop/{file_name} ./cropped/{cropped_name}\")\n",
    "    compressed_name = f\"{file_name.split('.')[0]}_cropped_compressed.pdf\"\n",
    "    os.system(f\"ps2pdf ./cropped/{cropped_name} ./compressed/{compressed_name}\")"
   ]
  }
 ],
 "metadata": {
  "kernelspec": {
   "display_name": "Python 3 (ipykernel)",
   "language": "python",
   "name": "python3"
  },
  "language_info": {
   "codemirror_mode": {
    "name": "ipython",
    "version": 3
   },
   "file_extension": ".py",
   "mimetype": "text/x-python",
   "name": "python",
   "nbconvert_exporter": "python",
   "pygments_lexer": "ipython3",
   "version": "3.8.10"
  }
 },
 "nbformat": 4,
 "nbformat_minor": 5
}
